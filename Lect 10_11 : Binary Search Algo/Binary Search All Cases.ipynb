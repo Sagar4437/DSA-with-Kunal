{
 "cells": [
  {
   "cell_type": "markdown",
   "id": "dd2dd39e-f438-433f-add7-cde78bc6e354",
   "metadata": {},
   "source": [
    "Binary Search on Sorted array"
   ]
  },
  {
   "cell_type": "raw",
   "id": "5a82cfad-361f-4a0d-8bf3-dc05211fdc00",
   "metadata": {},
   "source": [
    "Que1:\n",
    "    1) Non Repeated element\n",
    "    2) 1st occ in repeted element array\n",
    "    3) last occ in repeted element array\n",
    "    4) Recursive BS\n",
    "    5) Lower Value\n",
    "    6) Upper Value"
   ]
  },
  {
   "cell_type": "markdown",
   "id": "179c6855-7e27-4d66-9dd0-c03ee141020c",
   "metadata": {},
   "source": [
    "    \n",
    " "
   ]
  },
  {
   "cell_type": "markdown",
   "id": "6805d7e0-10b7-4280-9526-f10df61b5498",
   "metadata": {},
   "source": [
    "Q1:"
   ]
  },
  {
   "cell_type": "code",
   "execution_count": 1,
   "id": "652b4792-e6cc-4318-80f8-f710f6fe79e1",
   "metadata": {},
   "outputs": [],
   "source": [
    "def basicBS(arr,n):\n",
    "    si = 0\n",
    "    ei = len(arr)-1\n",
    "    \n",
    "    while si<= ei:\n",
    "        mi = (si+ei)//2\n",
    "        \n",
    "        if arr[mi] == n:\n",
    "            return mi\n",
    "        elif arr[mi] < n:\n",
    "            si = mi + 1\n",
    "        else:\n",
    "            ei = mi - 1\n",
    "    return -1"
   ]
  },
  {
   "cell_type": "code",
   "execution_count": 2,
   "id": "19f15d34-b870-4409-a988-259afa888d77",
   "metadata": {},
   "outputs": [
    {
     "data": {
      "text/plain": [
       "-1"
      ]
     },
     "execution_count": 2,
     "metadata": {},
     "output_type": "execute_result"
    }
   ],
   "source": [
    "arr = [1,4,6,8,10,13,15,16]\n",
    "n = 60\n",
    "basicBS(arr,n)"
   ]
  },
  {
   "cell_type": "markdown",
   "id": "fb600cc4-98cf-4360-9a6b-d7eb215dca52",
   "metadata": {},
   "source": [
    " "
   ]
  },
  {
   "cell_type": "markdown",
   "id": "1fc96646-3ac8-4451-a1e4-1ec365f91e8c",
   "metadata": {},
   "source": [
    "Q2:"
   ]
  },
  {
   "cell_type": "code",
   "execution_count": 3,
   "id": "8275d733-9eb8-4cbe-8f12-1b680b4a7d4f",
   "metadata": {},
   "outputs": [],
   "source": [
    "def firstOccBS(arr,n):\n",
    "    si = 0\n",
    "    ei = len(arr) - 1\n",
    "    ans = -1\n",
    "    \n",
    "    while si<= ei:\n",
    "        \n",
    "        mi = (si+ei) // 2\n",
    "        \n",
    "        if arr[mi] == n:\n",
    "            ans = mi\n",
    "            ei = mi - 1\n",
    "        elif arr[mi] < n:\n",
    "            si = mi + 1\n",
    "        else:\n",
    "            ei = mi - 1\n",
    "            \n",
    "    return ans"
   ]
  },
  {
   "cell_type": "code",
   "execution_count": 4,
   "id": "8fc27aaa-31ee-4109-acbe-df2765420063",
   "metadata": {},
   "outputs": [
    {
     "data": {
      "text/plain": [
       "3"
      ]
     },
     "execution_count": 4,
     "metadata": {},
     "output_type": "execute_result"
    }
   ],
   "source": [
    "arr = [1,4,6,8,8,8,10,13,15,16]\n",
    "n = 8\n",
    "firstOccBS(arr,n)"
   ]
  },
  {
   "cell_type": "markdown",
   "id": "d597e96f-6808-41d6-9c46-3560a46dc516",
   "metadata": {},
   "source": [
    " "
   ]
  },
  {
   "cell_type": "markdown",
   "id": "d8a438a6-3117-4c06-b93c-0c9373b3335c",
   "metadata": {},
   "source": [
    "Q3:"
   ]
  },
  {
   "cell_type": "code",
   "execution_count": 5,
   "id": "827dca5f-516f-4efc-90e6-024abdae1b3f",
   "metadata": {},
   "outputs": [],
   "source": [
    "def lastOccBS(arr,n):\n",
    "    si = 0\n",
    "    ei = len(arr) - 1\n",
    "    ans = -1\n",
    "    \n",
    "    while si<= ei:\n",
    "        \n",
    "        mi = (si+ei) // 2\n",
    "        \n",
    "        if arr[mi] == n:\n",
    "            ans = mi\n",
    "            si = mi + 1\n",
    "        elif arr[mi] < n:\n",
    "            si = mi + 1\n",
    "        else:\n",
    "            ei = mi - 1\n",
    "            \n",
    "    return ans"
   ]
  },
  {
   "cell_type": "code",
   "execution_count": 6,
   "id": "6f2630ee-18af-4051-8beb-d4549a3c64be",
   "metadata": {},
   "outputs": [
    {
     "data": {
      "text/plain": [
       "9"
      ]
     },
     "execution_count": 6,
     "metadata": {},
     "output_type": "execute_result"
    }
   ],
   "source": [
    "arr = [1,4,6,8,8,8,10,13,15,15,16]\n",
    "n = 15\n",
    "lastOccBS(arr,n)"
   ]
  },
  {
   "cell_type": "markdown",
   "id": "ca37e5be-e020-45c0-a17b-ac27cc08277d",
   "metadata": {},
   "source": [
    " "
   ]
  },
  {
   "cell_type": "markdown",
   "id": "1341f1d2-94bb-42cd-bb65-d8ed219723dc",
   "metadata": {},
   "source": [
    "Q4:"
   ]
  },
  {
   "cell_type": "code",
   "execution_count": 3,
   "id": "87fc7d2b-557d-40b6-b750-5371a79237b5",
   "metadata": {
    "tags": []
   },
   "outputs": [],
   "source": [
    "def findRecursive(arr,si,ei,x):\n",
    "    if si > ei :\n",
    "        return -1\n",
    "    mi = (si+ei) // 2\n",
    "    if arr[mi] == x:\n",
    "        return mi\n",
    "    elif arr[mi]<x:\n",
    "        return findRecursive(arr,mi+1,ei,x)\n",
    "    else:\n",
    "        return findRecursive(arr,si,mi-1,x)"
   ]
  },
  {
   "cell_type": "code",
   "execution_count": 8,
   "id": "7331fd08-41a5-4178-a18c-187767c6d9be",
   "metadata": {},
   "outputs": [
    {
     "data": {
      "text/plain": [
       "-1"
      ]
     },
     "execution_count": 8,
     "metadata": {},
     "output_type": "execute_result"
    }
   ],
   "source": [
    "arr = [1,2,3,6,8,12,14]\n",
    "n = 20\n",
    "findRecursive(arr,0,len(arr)-1,n)"
   ]
  },
  {
   "cell_type": "markdown",
   "id": "1b1ad9f5-8a98-46cd-a496-ab7ead4b0cfd",
   "metadata": {},
   "source": [
    " "
   ]
  },
  {
   "cell_type": "markdown",
   "id": "9679eae8-2905-42b8-94bd-d5bbc1e76813",
   "metadata": {},
   "source": [
    "Q5:"
   ]
  },
  {
   "cell_type": "code",
   "execution_count": 48,
   "id": "7bff45a7-12b9-4bf0-8fb7-6fc2d0c8048c",
   "metadata": {},
   "outputs": [],
   "source": [
    "def lowerV(arr,x):\n",
    "    \n",
    "    if x <= arr[0]:\n",
    "        return -1\n",
    "    \n",
    "    si = 0\n",
    "    ei = len(arr)-1\n",
    "    while si <= ei:\n",
    "        mi = (si+ei) // 2\n",
    "        if arr[mi] == x:\n",
    "            return arr[mi-1]\n",
    "        elif arr[mi]< x:\n",
    "            si = mi + 1\n",
    "        else:\n",
    "            ei = mi-1\n",
    "    return arr[ei]"
   ]
  },
  {
   "cell_type": "code",
   "execution_count": 49,
   "id": "e28cfcd0-0d59-44c8-a967-50094b06e599",
   "metadata": {},
   "outputs": [
    {
     "data": {
      "text/plain": [
       "8"
      ]
     },
     "execution_count": 49,
     "metadata": {},
     "output_type": "execute_result"
    }
   ],
   "source": [
    "arr = [1,2,3,6,8,12,14]\n",
    "n = 10\n",
    "lowerV(arr,n)"
   ]
  },
  {
   "cell_type": "markdown",
   "id": "f2825adb-a50a-4d8f-bd0d-5fdd2c8f26f9",
   "metadata": {},
   "source": [
    " "
   ]
  },
  {
   "cell_type": "markdown",
   "id": "db21b3fa-eaf1-463a-b243-839a88014e69",
   "metadata": {},
   "source": [
    "Q6:"
   ]
  },
  {
   "cell_type": "code",
   "execution_count": 50,
   "id": "3f0e2f93-d6bd-4742-ae9e-97dc8ea87934",
   "metadata": {},
   "outputs": [],
   "source": [
    "def upperV(arr,x):\n",
    "    \n",
    "    if x >= arr[-1]:\n",
    "        return -1\n",
    "    \n",
    "    si = 0\n",
    "    ei = len(arr)-1\n",
    "    while si <= ei:\n",
    "        mi = (si+ei) // 2\n",
    "        if arr[mi] == x:\n",
    "            return arr[mi+1]\n",
    "        elif arr[mi]< x:\n",
    "            si = mi + 1\n",
    "        else:\n",
    "            ei = mi-1\n",
    "    return arr[si]"
   ]
  },
  {
   "cell_type": "code",
   "execution_count": 52,
   "id": "3c822723-7c45-40ce-8e9c-5ca9d5d288ac",
   "metadata": {},
   "outputs": [
    {
     "data": {
      "text/plain": [
       "-1"
      ]
     },
     "execution_count": 52,
     "metadata": {},
     "output_type": "execute_result"
    }
   ],
   "source": [
    "arr = [1,2,3,6,8,12,14]\n",
    "n = 14\n",
    "upperV(arr,n)"
   ]
  },
  {
   "cell_type": "markdown",
   "id": "f1c81041-65ae-4b12-9eb0-ee438f5f1483",
   "metadata": {},
   "source": [
    " "
   ]
  }
 ],
 "metadata": {
  "kernelspec": {
   "display_name": "Python 3 (ipykernel)",
   "language": "python",
   "name": "python3"
  },
  "language_info": {
   "codemirror_mode": {
    "name": "ipython",
    "version": 3
   },
   "file_extension": ".py",
   "mimetype": "text/x-python",
   "name": "python",
   "nbconvert_exporter": "python",
   "pygments_lexer": "ipython3",
   "version": "3.7.2"
  },
  "toc-autonumbering": true,
  "toc-showcode": false,
  "toc-showmarkdowntxt": true,
  "toc-showtags": false
 },
 "nbformat": 4,
 "nbformat_minor": 5
}
