{
 "cells": [
  {
   "cell_type": "code",
   "execution_count": 5,
   "id": "d019de65-a718-4bf9-a0e1-b16d5a6daac9",
   "metadata": {},
   "outputs": [
    {
     "name": "stdout",
     "output_type": "stream",
     "text": [
      "*****\n",
      "*****\n",
      "*****\n",
      "*****\n",
      "*****\n"
     ]
    }
   ],
   "source": [
    "def pat1(n):\n",
    "    for r in range(n):\n",
    "        for c in range(n):\n",
    "            print(\"*\",end=\"\")\n",
    "        print()\n",
    "pat1(5)"
   ]
  },
  {
   "cell_type": "code",
   "execution_count": 7,
   "id": "a64c1743-cc57-4be7-96c8-199d994c9267",
   "metadata": {},
   "outputs": [
    {
     "name": "stdout",
     "output_type": "stream",
     "text": [
      "\n",
      "*\n",
      "**\n",
      "***\n",
      "****\n",
      "*****\n"
     ]
    }
   ],
   "source": [
    "def pat2(n):\n",
    "    for r in range(n+1):\n",
    "        for c in range(r):\n",
    "            print(\"*\",end=\"\")\n",
    "        print()\n",
    "pat1(5)"
   ]
  },
  {
   "cell_type": "code",
   "execution_count": 8,
   "id": "4bae61a7-6637-4e73-bba0-fd8828d399f8",
   "metadata": {},
   "outputs": [
    {
     "name": "stdout",
     "output_type": "stream",
     "text": [
      "*****\n",
      "****\n",
      "***\n",
      "**\n",
      "*\n",
      "\n"
     ]
    }
   ],
   "source": [
    "def pat3(n):\n",
    "    for r in range(n+1):\n",
    "        for c in range(n-r,0,-1):\n",
    "            print(\"*\",end=\"\")\n",
    "        print()\n",
    "pat3(5)"
   ]
  },
  {
   "cell_type": "code",
   "execution_count": 12,
   "id": "46df0113-6a3a-4283-9bab-6efe2c82d4c2",
   "metadata": {},
   "outputs": [
    {
     "name": "stdout",
     "output_type": "stream",
     "text": [
      "\n",
      "1 \n",
      "1 2 \n",
      "1 2 3 \n",
      "1 2 3 4 \n",
      "1 2 3 4 5 \n"
     ]
    }
   ],
   "source": [
    "def pat4(n):\n",
    "    for r in range(n+1):\n",
    "        for c in range(1,r+1):\n",
    "            print(c,end=\" \")\n",
    "        print()\n",
    "pat4(5)"
   ]
  },
  {
   "cell_type": "code",
   "execution_count": 14,
   "id": "d60db350-dcb6-45e3-a96a-778782830f9f",
   "metadata": {},
   "outputs": [
    {
     "name": "stdout",
     "output_type": "stream",
     "text": [
      "\n",
      "* \n",
      "* * \n",
      "* * * \n",
      "* * * * \n",
      "* * * * * \n",
      "* * * * * * \n",
      "* * * * * * * \n",
      "* * * * * * * * \n",
      "* * * * * * * * * \n",
      "* * * * * * * * * * \n",
      "* * * * * * * * * \n",
      "* * * * * * * * \n",
      "* * * * * * * \n",
      "* * * * * * \n",
      "* * * * * \n",
      "* * * * \n",
      "* * * \n",
      "* * \n",
      "* \n"
     ]
    }
   ],
   "source": [
    "def pat5(n):\n",
    "    for r in range(n):\n",
    "        for c in range(r):\n",
    "            print(\"*\",end=\" \")\n",
    "        print()\n",
    "        \n",
    "    for r in range(n,0,-1):\n",
    "        for c in range(r):\n",
    "            print(\"*\",end=\" \")\n",
    "        print()\n",
    "pat5(10)"
   ]
  },
  {
   "cell_type": "code",
   "execution_count": 2,
   "id": "aa0b5091-6f5d-4800-842e-b508d1473ac9",
   "metadata": {},
   "outputs": [
    {
     "name": "stdout",
     "output_type": "stream",
     "text": [
      "          \n",
      "         *\n",
      "        **\n",
      "       ***\n",
      "      ****\n",
      "     *****\n",
      "    ******\n",
      "   *******\n",
      "  ********\n",
      " *********\n"
     ]
    }
   ],
   "source": [
    "def pat6(n):   \n",
    "    for r in range(n,0,-1):\n",
    "        for c in range(r):\n",
    "            print(\" \",end=\"\")\n",
    "        for c in range(n-r):\n",
    "            print(\"*\",end=\"\")\n",
    "        print()\n",
    "pat6(10)"
   ]
  },
  {
   "cell_type": "code",
   "execution_count": 3,
   "id": "e8de8081-eccd-49e6-ad23-cf3487d81ce8",
   "metadata": {},
   "outputs": [
    {
     "name": "stdout",
     "output_type": "stream",
     "text": [
      "**********\n",
      " *********\n",
      "  ********\n",
      "   *******\n",
      "    ******\n",
      "     *****\n",
      "      ****\n",
      "       ***\n",
      "        **\n",
      "         *\n"
     ]
    }
   ],
   "source": [
    "def pat7(n):   \n",
    "    for r in range(n,0,-1):\n",
    "        for c in range(n-r):\n",
    "            print(\" \",end=\"\")\n",
    "        for c in range(r):\n",
    "            print(\"*\",end=\"\")\n",
    "        print()\n",
    "pat7(10)"
   ]
  },
  {
   "cell_type": "code",
   "execution_count": 8,
   "id": "2c8834d3-5d1d-4232-9722-c8908e4ada7b",
   "metadata": {},
   "outputs": [
    {
     "name": "stdout",
     "output_type": "stream",
     "text": [
      "         *\n",
      "        ***\n",
      "       *****\n",
      "      *******\n",
      "     *********\n",
      "    ***********\n",
      "   *************\n",
      "  ***************\n",
      " *****************\n"
     ]
    }
   ],
   "source": [
    "def pat8(n):   \n",
    "    for r in range(n-1,0,-1):\n",
    "        extra = 0\n",
    "        for c in range(r):\n",
    "            print(\" \",end=\"\")\n",
    "            \n",
    "        for c in range(n-r):\n",
    "            extra += 1\n",
    "            print(\"*\",end=\"\")\n",
    "        \n",
    "#       run loop for extra * \n",
    "        for c in range(extra-1):\n",
    "            print(\"*\",end=\"\")\n",
    "        print()\n",
    "pat8(10)"
   ]
  },
  {
   "cell_type": "code",
   "execution_count": 18,
   "id": "cc0ce00d-a696-43fe-9a02-a93dd88817d3",
   "metadata": {},
   "outputs": [
    {
     "name": "stdout",
     "output_type": "stream",
     "text": [
      "*******************\n",
      " *****************\n",
      "  ***************\n",
      "   *************\n",
      "    ***********\n",
      "     *********\n",
      "      *******\n",
      "       *****\n",
      "        ***\n",
      "         *\n"
     ]
    }
   ],
   "source": [
    "def pat9(n):   \n",
    "    for r in range(n):\n",
    "        extra = 0\n",
    "        for c in range(r):\n",
    "            print(\" \",end=\"\")\n",
    "        \n",
    "        for c in range(n-r):\n",
    "            extra += 1\n",
    "            print(\"*\",end=\"\")\n",
    "            \n",
    "#       run loop for extra * \n",
    "        for c in range(extra-1):\n",
    "            print(\"*\",end=\"\")\n",
    "            \n",
    "        print()\n",
    "pat9(10)"
   ]
  },
  {
   "cell_type": "code",
   "execution_count": 30,
   "id": "621430d6-b76c-4058-80b8-1743d7db9e46",
   "metadata": {},
   "outputs": [
    {
     "name": "stdout",
     "output_type": "stream",
     "text": [
      "********************\n",
      "*********  *********\n",
      "********    ********\n",
      "*******      *******\n",
      "******        ******\n",
      "*****          *****\n",
      "****            ****\n",
      "***              ***\n",
      "**                **\n",
      "*                  *\n"
     ]
    }
   ],
   "source": [
    "def pat10(n):\n",
    "    for r in range(1,n+1,+1):\n",
    "        i = r - 1\n",
    "        for c in range(n-r+1):\n",
    "            print(\"*\",end=\"\")\n",
    "        for sp in range(2*i):\n",
    "            print(\" \",end=\"\")\n",
    "        for c in range(n-r+1):\n",
    "            print(\"*\",end=\"\")\n",
    "        print()\n",
    "        \n",
    "pat10(10)\n",
    "            "
   ]
  },
  {
   "cell_type": "code",
   "execution_count": null,
   "id": "23ed3127-7174-4755-9120-2588f2b0a704",
   "metadata": {},
   "outputs": [],
   "source": []
  }
 ],
 "metadata": {
  "kernelspec": {
   "display_name": "Python 3 (ipykernel)",
   "language": "python",
   "name": "python3"
  },
  "language_info": {
   "codemirror_mode": {
    "name": "ipython",
    "version": 3
   },
   "file_extension": ".py",
   "mimetype": "text/x-python",
   "name": "python",
   "nbconvert_exporter": "python",
   "pygments_lexer": "ipython3",
   "version": "3.7.2"
  }
 },
 "nbformat": 4,
 "nbformat_minor": 5
}
